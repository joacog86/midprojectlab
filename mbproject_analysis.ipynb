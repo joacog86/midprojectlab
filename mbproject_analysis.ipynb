{
 "cells": [
  {
   "cell_type": "markdown",
   "id": "1b807532-6500-4692-aa6d-067c83910542",
   "metadata": {},
   "source": [
    "# Overview and analysis of AirBnB listings in Barcelona\n",
    "In this project, we explore Airbnb listings in Barcelona, a city renowned for its tourism. With millions of annual visitors, Barcelona's popularity as a tourist destination significantly influences its hospitality sector. Airbnb, a major player in this landscape, shapes the city's lodging experience. This analysis focuses on key statistics and trends, aiming to reveal insights into the distribution, pricing dynamics, and trends of Airbnb listings across Barcelona's neighborhoods. Through data exploration, we aim to uncover patterns that provide a deeper understanding of the evolving Airbnb market in this vibrant Mediterranean city."
   ]
  },
  {
   "cell_type": "markdown",
   "id": "98345a97-6b22-4e9c-9682-532f30830bb3",
   "metadata": {},
   "source": [
    "![Barcelona](https://media.traveler.es/photos/63838947050e0f92cd80c982/16:9/w_2560%2Cc_limit/GettyImages-1392907424.jpg)"
   ]
  },
  {
   "cell_type": "markdown",
   "id": "066f9af3-9fb7-4d9d-8c2e-6fb972bd2821",
   "metadata": {},
   "source": [
    "## Structure of the notebook\n",
    "1. Loading and exploring dataset\n",
    "2. Cleaning dataset\n",
    "3. Business analysis and visualization\n",
    "4. Hypothesis testing\n",
    "5. Data preprocessing\n",
    "6. Prediction of listing price based on other variables"
   ]
  },
  {
   "cell_type": "markdown",
   "id": "f6a56069-fb23-403c-b3fb-de134c6b15d3",
   "metadata": {},
   "source": [
    "## 1. Loading and exploring dataset"
   ]
  },
  {
   "cell_type": "code",
   "execution_count": 1,
   "id": "1caa00ad-ec92-4269-886c-d991dba32cb2",
   "metadata": {},
   "outputs": [],
   "source": [
    "# Importing libraries\n",
    "\n",
    "import numpy as np\n",
    "import pandas as pd\n",
    "import matplotlib.pyplot as plt\n",
    "import seaborn as sns\n",
    "import scipy.stats as st"
   ]
  },
  {
   "cell_type": "code",
   "execution_count": 2,
   "id": "c9c1b84a-656c-4591-b3b1-d42a182dd889",
   "metadata": {},
   "outputs": [
    {
     "data": {
      "text/html": [
       "<div>\n",
       "<style scoped>\n",
       "    .dataframe tbody tr th:only-of-type {\n",
       "        vertical-align: middle;\n",
       "    }\n",
       "\n",
       "    .dataframe tbody tr th {\n",
       "        vertical-align: top;\n",
       "    }\n",
       "\n",
       "    .dataframe thead th {\n",
       "        text-align: right;\n",
       "    }\n",
       "</style>\n",
       "<table border=\"1\" class=\"dataframe\">\n",
       "  <thead>\n",
       "    <tr style=\"text-align: right;\">\n",
       "      <th></th>\n",
       "      <th>Unnamed: 0</th>\n",
       "      <th>host_id</th>\n",
       "      <th>host_since</th>\n",
       "      <th>host_response_time</th>\n",
       "      <th>host_response_rate</th>\n",
       "      <th>host_acceptance_rate</th>\n",
       "      <th>host_is_superhost</th>\n",
       "      <th>host_total_listings_count</th>\n",
       "      <th>host_has_profile_pic</th>\n",
       "      <th>host_identity_verified</th>\n",
       "      <th>neighbourhood_cleansed</th>\n",
       "      <th>neighbourhood_group_cleansed</th>\n",
       "      <th>room_type</th>\n",
       "      <th>accommodates</th>\n",
       "      <th>bathrooms_text</th>\n",
       "      <th>bedrooms</th>\n",
       "      <th>beds</th>\n",
       "      <th>price</th>\n",
       "      <th>minimum_nights</th>\n",
       "      <th>maximum_nights</th>\n",
       "      <th>has_availability</th>\n",
       "      <th>availability_30</th>\n",
       "      <th>first_review</th>\n",
       "      <th>review_scores_rating</th>\n",
       "      <th>instant_bookable</th>\n",
       "      <th>calculated_host_listings_count</th>\n",
       "      <th>reviews_per_month</th>\n",
       "    </tr>\n",
       "  </thead>\n",
       "  <tbody>\n",
       "    <tr>\n",
       "      <th>0</th>\n",
       "      <td>0</td>\n",
       "      <td>71615</td>\n",
       "      <td>2010-01-19</td>\n",
       "      <td>within an hour</td>\n",
       "      <td>0.97</td>\n",
       "      <td>0.90</td>\n",
       "      <td>f</td>\n",
       "      <td>48.0</td>\n",
       "      <td>t</td>\n",
       "      <td>t</td>\n",
       "      <td>la Sagrada Familia</td>\n",
       "      <td>Eixample</td>\n",
       "      <td>Entire home/apt</td>\n",
       "      <td>8</td>\n",
       "      <td>2.0</td>\n",
       "      <td>3.0</td>\n",
       "      <td>6.0</td>\n",
       "      <td>202.0</td>\n",
       "      <td>1</td>\n",
       "      <td>1125</td>\n",
       "      <td>t</td>\n",
       "      <td>4</td>\n",
       "      <td>2013-05-27</td>\n",
       "      <td>4.30</td>\n",
       "      <td>t</td>\n",
       "      <td>30</td>\n",
       "      <td>0.30</td>\n",
       "    </tr>\n",
       "    <tr>\n",
       "      <th>1</th>\n",
       "      <td>1</td>\n",
       "      <td>90417</td>\n",
       "      <td>2010-03-09</td>\n",
       "      <td>within an hour</td>\n",
       "      <td>1.00</td>\n",
       "      <td>0.94</td>\n",
       "      <td>t</td>\n",
       "      <td>9.0</td>\n",
       "      <td>t</td>\n",
       "      <td>t</td>\n",
       "      <td>el Besos i el Maresme</td>\n",
       "      <td>Sant Marti</td>\n",
       "      <td>Entire home/apt</td>\n",
       "      <td>5</td>\n",
       "      <td>2.0</td>\n",
       "      <td>3.0</td>\n",
       "      <td>4.0</td>\n",
       "      <td>255.0</td>\n",
       "      <td>3</td>\n",
       "      <td>300</td>\n",
       "      <td>t</td>\n",
       "      <td>16</td>\n",
       "      <td>2011-03-15</td>\n",
       "      <td>4.77</td>\n",
       "      <td>f</td>\n",
       "      <td>2</td>\n",
       "      <td>0.48</td>\n",
       "    </tr>\n",
       "    <tr>\n",
       "      <th>2</th>\n",
       "      <td>2</td>\n",
       "      <td>567180</td>\n",
       "      <td>2011-05-08</td>\n",
       "      <td>within a few hours</td>\n",
       "      <td>0.88</td>\n",
       "      <td>0.98</td>\n",
       "      <td>f</td>\n",
       "      <td>19.0</td>\n",
       "      <td>t</td>\n",
       "      <td>f</td>\n",
       "      <td>la Sagrada Familia</td>\n",
       "      <td>Eixample</td>\n",
       "      <td>Entire home/apt</td>\n",
       "      <td>8</td>\n",
       "      <td>2.0</td>\n",
       "      <td>3.0</td>\n",
       "      <td>6.0</td>\n",
       "      <td>331.0</td>\n",
       "      <td>2</td>\n",
       "      <td>30</td>\n",
       "      <td>f</td>\n",
       "      <td>0</td>\n",
       "      <td>2011-08-09</td>\n",
       "      <td>4.55</td>\n",
       "      <td>f</td>\n",
       "      <td>19</td>\n",
       "      <td>0.33</td>\n",
       "    </tr>\n",
       "    <tr>\n",
       "      <th>3</th>\n",
       "      <td>3</td>\n",
       "      <td>135703</td>\n",
       "      <td>2010-05-31</td>\n",
       "      <td>within an hour</td>\n",
       "      <td>1.00</td>\n",
       "      <td>1.00</td>\n",
       "      <td>f</td>\n",
       "      <td>15.0</td>\n",
       "      <td>t</td>\n",
       "      <td>t</td>\n",
       "      <td>el Camp d'en Grassot i Gracia Nova</td>\n",
       "      <td>Gracia</td>\n",
       "      <td>Entire home/apt</td>\n",
       "      <td>6</td>\n",
       "      <td>1.5</td>\n",
       "      <td>2.0</td>\n",
       "      <td>3.0</td>\n",
       "      <td>171.0</td>\n",
       "      <td>21</td>\n",
       "      <td>31</td>\n",
       "      <td>t</td>\n",
       "      <td>6</td>\n",
       "      <td>2011-07-17</td>\n",
       "      <td>4.46</td>\n",
       "      <td>t</td>\n",
       "      <td>3</td>\n",
       "      <td>0.64</td>\n",
       "    </tr>\n",
       "    <tr>\n",
       "      <th>4</th>\n",
       "      <td>4</td>\n",
       "      <td>567180</td>\n",
       "      <td>2011-05-08</td>\n",
       "      <td>within a few hours</td>\n",
       "      <td>0.88</td>\n",
       "      <td>0.98</td>\n",
       "      <td>f</td>\n",
       "      <td>19.0</td>\n",
       "      <td>t</td>\n",
       "      <td>f</td>\n",
       "      <td>la Sagrada Familia</td>\n",
       "      <td>Eixample</td>\n",
       "      <td>Entire home/apt</td>\n",
       "      <td>8</td>\n",
       "      <td>2.5</td>\n",
       "      <td>3.0</td>\n",
       "      <td>5.0</td>\n",
       "      <td>333.0</td>\n",
       "      <td>2</td>\n",
       "      <td>28</td>\n",
       "      <td>f</td>\n",
       "      <td>0</td>\n",
       "      <td>2011-09-13</td>\n",
       "      <td>4.56</td>\n",
       "      <td>f</td>\n",
       "      <td>19</td>\n",
       "      <td>0.34</td>\n",
       "    </tr>\n",
       "  </tbody>\n",
       "</table>\n",
       "</div>"
      ],
      "text/plain": [
       "   Unnamed: 0  host_id  host_since  host_response_time  host_response_rate  \\\n",
       "0           0    71615  2010-01-19      within an hour                0.97   \n",
       "1           1    90417  2010-03-09      within an hour                1.00   \n",
       "2           2   567180  2011-05-08  within a few hours                0.88   \n",
       "3           3   135703  2010-05-31      within an hour                1.00   \n",
       "4           4   567180  2011-05-08  within a few hours                0.88   \n",
       "\n",
       "   host_acceptance_rate host_is_superhost  host_total_listings_count  \\\n",
       "0                  0.90                 f                       48.0   \n",
       "1                  0.94                 t                        9.0   \n",
       "2                  0.98                 f                       19.0   \n",
       "3                  1.00                 f                       15.0   \n",
       "4                  0.98                 f                       19.0   \n",
       "\n",
       "  host_has_profile_pic host_identity_verified  \\\n",
       "0                    t                      t   \n",
       "1                    t                      t   \n",
       "2                    t                      f   \n",
       "3                    t                      t   \n",
       "4                    t                      f   \n",
       "\n",
       "               neighbourhood_cleansed neighbourhood_group_cleansed  \\\n",
       "0                  la Sagrada Familia                     Eixample   \n",
       "1               el Besos i el Maresme                   Sant Marti   \n",
       "2                  la Sagrada Familia                     Eixample   \n",
       "3  el Camp d'en Grassot i Gracia Nova                       Gracia   \n",
       "4                  la Sagrada Familia                     Eixample   \n",
       "\n",
       "         room_type  accommodates  bathrooms_text  bedrooms  beds  price  \\\n",
       "0  Entire home/apt             8             2.0       3.0   6.0  202.0   \n",
       "1  Entire home/apt             5             2.0       3.0   4.0  255.0   \n",
       "2  Entire home/apt             8             2.0       3.0   6.0  331.0   \n",
       "3  Entire home/apt             6             1.5       2.0   3.0  171.0   \n",
       "4  Entire home/apt             8             2.5       3.0   5.0  333.0   \n",
       "\n",
       "   minimum_nights  maximum_nights has_availability  availability_30  \\\n",
       "0               1            1125                t                4   \n",
       "1               3             300                t               16   \n",
       "2               2              30                f                0   \n",
       "3              21              31                t                6   \n",
       "4               2              28                f                0   \n",
       "\n",
       "  first_review  review_scores_rating instant_bookable  \\\n",
       "0   2013-05-27                  4.30                t   \n",
       "1   2011-03-15                  4.77                f   \n",
       "2   2011-08-09                  4.55                f   \n",
       "3   2011-07-17                  4.46                t   \n",
       "4   2011-09-13                  4.56                f   \n",
       "\n",
       "   calculated_host_listings_count  reviews_per_month  \n",
       "0                              30               0.30  \n",
       "1                               2               0.48  \n",
       "2                              19               0.33  \n",
       "3                               3               0.64  \n",
       "4                              19               0.34  "
      ]
     },
     "execution_count": 2,
     "metadata": {},
     "output_type": "execute_result"
    }
   ],
   "source": [
    "# Loading dataset\n",
    "data = pd.read_csv('data/cleaned/listings_cleaned.csv')\n",
    "\n",
    "# Since we have 75 columns, we want pandas to display all of them\n",
    "pd.set_option('display.max_columns', None)\n",
    "\n",
    "# Exploring first 5 rows\n",
    "data.head()"
   ]
  },
  {
   "cell_type": "code",
   "execution_count": 3,
   "id": "0435330c-e462-4dd0-8214-c1cfc78e7693",
   "metadata": {},
   "outputs": [
    {
     "data": {
      "text/plain": [
       "(11731, 27)"
      ]
     },
     "execution_count": 3,
     "metadata": {},
     "output_type": "execute_result"
    }
   ],
   "source": [
    "# Checking the shape of the dataframe\n",
    "\n",
    "data.shape"
   ]
  },
  {
   "cell_type": "code",
   "execution_count": 4,
   "id": "ecae9537-df29-4d4c-a8c4-4f4d9aa04a21",
   "metadata": {},
   "outputs": [
    {
     "name": "stdout",
     "output_type": "stream",
     "text": [
      "<class 'pandas.core.frame.DataFrame'>\n",
      "RangeIndex: 11731 entries, 0 to 11730\n",
      "Data columns (total 27 columns):\n",
      " #   Column                          Non-Null Count  Dtype  \n",
      "---  ------                          --------------  -----  \n",
      " 0   Unnamed: 0                      11731 non-null  int64  \n",
      " 1   host_id                         11731 non-null  int64  \n",
      " 2   host_since                      11731 non-null  object \n",
      " 3   host_response_time              11731 non-null  object \n",
      " 4   host_response_rate              11731 non-null  float64\n",
      " 5   host_acceptance_rate            11731 non-null  float64\n",
      " 6   host_is_superhost               11731 non-null  object \n",
      " 7   host_total_listings_count       11731 non-null  float64\n",
      " 8   host_has_profile_pic            11731 non-null  object \n",
      " 9   host_identity_verified          11731 non-null  object \n",
      " 10  neighbourhood_cleansed          11731 non-null  object \n",
      " 11  neighbourhood_group_cleansed    11731 non-null  object \n",
      " 12  room_type                       11731 non-null  object \n",
      " 13  accommodates                    11731 non-null  int64  \n",
      " 14  bathrooms_text                  11731 non-null  float64\n",
      " 15  bedrooms                        11731 non-null  float64\n",
      " 16  beds                            11731 non-null  float64\n",
      " 17  price                           11731 non-null  float64\n",
      " 18  minimum_nights                  11731 non-null  int64  \n",
      " 19  maximum_nights                  11731 non-null  int64  \n",
      " 20  has_availability                11731 non-null  object \n",
      " 21  availability_30                 11731 non-null  int64  \n",
      " 22  first_review                    11731 non-null  object \n",
      " 23  review_scores_rating            11731 non-null  float64\n",
      " 24  instant_bookable                11731 non-null  object \n",
      " 25  calculated_host_listings_count  11731 non-null  int64  \n",
      " 26  reviews_per_month               11731 non-null  float64\n",
      "dtypes: float64(9), int64(7), object(11)\n",
      "memory usage: 2.4+ MB\n"
     ]
    }
   ],
   "source": [
    "# Checking dataframe information\n",
    "\n",
    "data.info()"
   ]
  },
  {
   "cell_type": "markdown",
   "id": "456f3ebb-e979-4cec-aaae-144643608db2",
   "metadata": {},
   "source": [
    "## 3. Business analysis and visualization"
   ]
  },
  {
   "cell_type": "markdown",
   "id": "9f2f918b-eb43-43e2-a504-5c5d82728b2b",
   "metadata": {},
   "source": [
    "#### What is the neighbourhood with the most listings?"
   ]
  },
  {
   "cell_type": "code",
   "execution_count": null,
   "id": "e3aae622-7463-4b84-b5de-7e52fdb30eff",
   "metadata": {},
   "outputs": [],
   "source": [
    "# Neighbourhood with most listings\n",
    "\n",
    "most_listings = data.groupby('neighbourhood_group_cleansed')['']"
   ]
  },
  {
   "cell_type": "markdown",
   "id": "653113b3-18f0-4c9a-ae65-4d9c735e7d7a",
   "metadata": {},
   "source": [
    "#### What year did most hosts create accounts?"
   ]
  },
  {
   "cell_type": "code",
   "execution_count": null,
   "id": "c23ea98b-a238-4c03-b8fe-49dcda59a1ef",
   "metadata": {},
   "outputs": [],
   "source": []
  },
  {
   "cell_type": "markdown",
   "id": "c8c89526-95df-4585-ace3-f03e4d38e5a6",
   "metadata": {},
   "source": [
    "#### How long, on average, takes hosts to receive its first review?"
   ]
  },
  {
   "cell_type": "code",
   "execution_count": null,
   "id": "96b36fd5-b107-4e0a-84f6-912ed2ae474f",
   "metadata": {},
   "outputs": [],
   "source": []
  },
  {
   "cell_type": "markdown",
   "id": "67eb13ad-54c5-40f8-8d46-9bc31e54524a",
   "metadata": {},
   "source": [
    "#### What is the average price by neighbourhood?"
   ]
  },
  {
   "cell_type": "code",
   "execution_count": null,
   "id": "9d48d2b7-9e8a-4f85-910c-7ab2bde79344",
   "metadata": {},
   "outputs": [],
   "source": []
  },
  {
   "cell_type": "markdown",
   "id": "9a48ac89-64a4-41dd-8b94-93ada2b40318",
   "metadata": {},
   "source": [
    "#### What are the neighbourhoods with the highest and lowest prices overall?"
   ]
  },
  {
   "cell_type": "code",
   "execution_count": null,
   "id": "017e7eb7-d031-41f8-ad1c-44e6388c156f",
   "metadata": {},
   "outputs": [],
   "source": []
  },
  {
   "cell_type": "markdown",
   "id": "7237f764-b55b-4625-8f0a-1853a9e904ec",
   "metadata": {},
   "source": [
    "#### What is the average received by listings in each neighbourhood?"
   ]
  },
  {
   "cell_type": "code",
   "execution_count": null,
   "id": "be5c8817-4630-455e-8ef0-c01cb0afb4f3",
   "metadata": {},
   "outputs": [],
   "source": []
  },
  {
   "cell_type": "markdown",
   "id": "d2272a19-e1e9-40b6-a5da-5d521bcef3e4",
   "metadata": {},
   "source": [
    "#### What is the worst rated neighbourhood? What is its price? What about the size and rooms of its listings?"
   ]
  },
  {
   "cell_type": "code",
   "execution_count": null,
   "id": "2e095347-2635-4a0d-9ea6-fce5d7cb40f1",
   "metadata": {},
   "outputs": [],
   "source": []
  },
  {
   "cell_type": "markdown",
   "id": "9891c044-d091-4c9d-b3a5-be8613ae9013",
   "metadata": {},
   "source": [
    "#### Is the overall rating correlated with the prices of the listings?"
   ]
  },
  {
   "cell_type": "code",
   "execution_count": null,
   "id": "bf641eb8-1775-4282-b60d-8211cece76dc",
   "metadata": {},
   "outputs": [],
   "source": []
  },
  {
   "cell_type": "markdown",
   "id": "db6c0762-1ebe-4545-8ea4-4dafc32994fc",
   "metadata": {},
   "source": [
    "#### Does the location/neighbourhood of the listings affect the price?"
   ]
  },
  {
   "cell_type": "code",
   "execution_count": null,
   "id": "f027e74c-1dc9-4e58-94be-994052eb3dc0",
   "metadata": {},
   "outputs": [],
   "source": []
  },
  {
   "cell_type": "markdown",
   "id": "cd89b268-a101-4521-8c5c-73d609c7c289",
   "metadata": {},
   "source": [
    "#### What variables seem to be correlated?"
   ]
  },
  {
   "cell_type": "code",
   "execution_count": null,
   "id": "e0a78583-ae35-4441-abfe-5af7ca4945a3",
   "metadata": {},
   "outputs": [],
   "source": []
  },
  {
   "cell_type": "markdown",
   "id": "7fd3f7e5-0ba2-4267-94f3-889fdef25bb0",
   "metadata": {},
   "source": [
    "## 4. Hypothesis testing"
   ]
  },
  {
   "cell_type": "markdown",
   "id": "a2ddc795-9012-4e6c-a159-44091e80e698",
   "metadata": {},
   "source": [
    "#### Is the average price in Gracia neighborhood significantly different from Sants-Montjuic?"
   ]
  },
  {
   "cell_type": "code",
   "execution_count": null,
   "id": "f637fe9f-d22e-4c31-a65f-745977ff5f68",
   "metadata": {},
   "outputs": [],
   "source": []
  },
  {
   "cell_type": "markdown",
   "id": "95c7872b-8141-41fd-8f87-b83310fe0f34",
   "metadata": {},
   "source": [
    "#### Is the average rating in Sant Andreu higher than 4.50?"
   ]
  },
  {
   "cell_type": "code",
   "execution_count": null,
   "id": "7c95e530-8a52-4035-ba93-c655468ab694",
   "metadata": {},
   "outputs": [],
   "source": []
  },
  {
   "cell_type": "markdown",
   "id": "b859893e-6e42-4f73-9374-fd1ec7998bbb",
   "metadata": {},
   "source": [
    "#### Is the average number of listings per host less than 30?"
   ]
  },
  {
   "cell_type": "code",
   "execution_count": null,
   "id": "92025327-1732-47ae-873c-0a23c411c855",
   "metadata": {},
   "outputs": [],
   "source": []
  },
  {
   "cell_type": "markdown",
   "id": "97565125-16d9-46a5-b63e-e9b67788c66b",
   "metadata": {},
   "source": [
    "#### Are xyz categorical columns correlated?"
   ]
  },
  {
   "cell_type": "code",
   "execution_count": null,
   "id": "7540046e-fc10-480a-bfe7-1034eb9f43d2",
   "metadata": {},
   "outputs": [],
   "source": []
  },
  {
   "cell_type": "markdown",
   "id": "c87013f2-9257-41d9-aab9-91af15401a49",
   "metadata": {},
   "source": [
    "#### Is the average number of bedrooms for listings in Ciutat Vella significantly different from 3?"
   ]
  },
  {
   "cell_type": "code",
   "execution_count": null,
   "id": "de961d0c-b2b1-40ee-8acf-492402329730",
   "metadata": {},
   "outputs": [],
   "source": []
  },
  {
   "cell_type": "markdown",
   "id": "bb88ec36-357c-4356-aaf0-4ce51a27b40b",
   "metadata": {},
   "source": [
    "## 5. Data preprocessing"
   ]
  },
  {
   "cell_type": "code",
   "execution_count": 508,
   "id": "8b6f8832-6042-4b0f-8bee-f3c48e847a68",
   "metadata": {},
   "outputs": [],
   "source": [
    "# Remember to remove nulls from relevant columns"
   ]
  },
  {
   "cell_type": "markdown",
   "id": "20f0d295-c421-4a6b-9a5d-266641f52e4b",
   "metadata": {},
   "source": [
    "## 6. Predicting the price of listings"
   ]
  },
  {
   "cell_type": "code",
   "execution_count": null,
   "id": "50214f94-2afc-4366-9413-eca57516298f",
   "metadata": {},
   "outputs": [],
   "source": []
  },
  {
   "cell_type": "code",
   "execution_count": null,
   "id": "f2feacf4-52ff-4bed-b74d-5a51ab974e86",
   "metadata": {},
   "outputs": [],
   "source": [
    "\n",
    "\n",
    "\n",
    "\n",
    "\n",
    "\n",
    "\n",
    "\n",
    "\n",
    "\n",
    "\n",
    "\n",
    "\n",
    "\n",
    "\n",
    "\n",
    "\n",
    "\n",
    "\n",
    "\n",
    "\n",
    "\n",
    "\n",
    "\n",
    "\n"
   ]
  }
 ],
 "metadata": {
  "kernelspec": {
   "display_name": "venv",
   "language": "python",
   "name": "venv"
  },
  "language_info": {
   "codemirror_mode": {
    "name": "ipython",
    "version": 3
   },
   "file_extension": ".py",
   "mimetype": "text/x-python",
   "name": "python",
   "nbconvert_exporter": "python",
   "pygments_lexer": "ipython3",
   "version": "3.11.5"
  }
 },
 "nbformat": 4,
 "nbformat_minor": 5
}
